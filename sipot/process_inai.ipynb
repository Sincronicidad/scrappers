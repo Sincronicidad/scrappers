{
 "cells": [
  {
   "cell_type": "code",
   "execution_count": 2,
   "id": "e565984e",
   "metadata": {},
   "outputs": [],
   "source": [
    "#Directorio"
   ]
  },
  {
   "cell_type": "code",
   "execution_count": 1,
   "id": "ad8c9381",
   "metadata": {},
   "outputs": [],
   "source": [
    "import requests"
   ]
  },
  {
   "cell_type": "code",
   "execution_count": 40,
   "id": "2491749a",
   "metadata": {},
   "outputs": [],
   "source": [
    "def query_inai(query, resource):\n",
    "    url = 'https://tematicos.plataformadetransparencia.org.mx/web/guest/informacionrelevante?p_p_id=informacionrelevante_WAR_Informacionrelevante&p_p_lifecycle=2&p_p_state=normal&p_p_mode=view&p_p_resource_id=busquedaDirectorio&p_p_cacheability=cacheLevelPage&_informacionrelevante_WAR_Informacionrelevante_controller=DirectorioController'\n",
    "    headers = {\"Content-Type\": \"application/json; charset=UTF-8\"} \n",
    "    data = '{\"contenido\":\"'+query+'\",\"coleccion\":\"'+resource+'\",\"jsonAtributos\":\"\",\"dePaginador\":True,\"filtroSeleccionado\":\"\",\"atributosSeleccionados\":\"\",\"cantidad\":20,\"tipoOrdenamiento\":1}'\n",
    "    print(data)\n",
    "    return requests.post(url, headers =headers, data=data).json()"
   ]
  },
  {
   "cell_type": "code",
   "execution_count": 47,
   "id": "f84c5bb7",
   "metadata": {},
   "outputs": [
    {
     "name": "stdout",
     "output_type": "stream",
     "text": [
      "{\"contenido\":\"andres manuel lopez obrador\",\"coleccion\":\"sueldos\",\"jsonAtributos\":\"\",\"dePaginador\":True,\"filtroSeleccionado\":\"\",\"atributosSeleccionados\":\"\",\"cantidad\":20,\"tipoOrdenamiento\":1}\n"
     ]
    },
    {
     "data": {
      "text/plain": [
       "{'informacionPrincipal': '{ \"entidadfederativa\":\"Federaci\\\\u00F3n\" ,\"sujetoobligado\":\"Oficina de la Presidencia de la Rep\\\\u00FAblica\" ,\"nombre\":\"Andr\\\\u00E9s Manuel L\\\\u00F3pez Obrador\",\"denominacion\":\"Presidente de los Estados Unidos Mexicanos\",\"montoneto\":\"$108,368.26\",\"periodoreporta\":\"01\\\\/01\\\\/2019 - 30\\\\/06\\\\/2019\"}',\n",
       " 'informacionSecundaria': '[{\"informacionPrincipal\":[{ \"nombre\":\"Andr\\\\u00E9s Manuel L\\\\u00F3pez Obrador\",\"cargo\":\"Presidente de los Estados Unidos Mexicanos\",\"area\":\"Secretar\\\\u00EDa Particular del Presidente\",\"montobruto\":\"$156,620.26\",\"montoneto\":\"$108,368.26\"}]},{\"informacionSecundarios\":[{\"percepciones_dinero\":[{ \"concepto\":\"Percepciones en efectivo\", \"montobruto\":\"$0.00\", \"montoneto\":\"$0.00\", \"periodicidad\":\"Mensual\"}]},{\"percepciones_especie\":[{ \"concepto\":\"Percepciones adicionales en especie\", \"montobruto\":\"\", \"montoneto\":\"\", \"periodicidad\":\"Mensual\"}]},{\"ingresos\":[{ \"concepto\":\"Sueldo base\", \"montobruto\":\"$43,442.00\", \"montoneto\":\"$0.00\", \"periodicidad\":\"Mensual\"}]},{\"compensasiones\":[{ \"concepto\":\"Compensaci\\\\u00F3n garantizada\", \"montobruto\":\"$112,393.00\", \"montoneto\":\"$0.00\", \"periodicidad\":\"Mensual\"}]},{\"gratificaciones\":[{ \"concepto\":\"Gratificaciones\", \"montobruto\":\"$0.00\", \"montoneto\":\"$0.00\", \"periodicidad\":\"Mensual\"}]},{\"primas\":[{ \"concepto\":\"Primas\", \"montobruto\":\"$0.00\", \"montoneto\":\"$0.00\", \"periodicidad\":\"Mensual\"}]},{\"comisiones\":[{ \"concepto\":\"Comisiones\", \"montobruto\":\"$0.00\", \"montoneto\":\"$0.00\", \"periodicidad\":\"Mensual\"}]},{\"dietas\":[{ \"concepto\":\"Dietas\", \"montobruto\":\"$0.00\", \"montoneto\":\"$0.00\", \"periodicidad\":\"Mensual\"}]},{\"bonos\":[{ \"concepto\":\"Bonos\", \"montobruto\":\"$0.00\", \"montoneto\":\"$0.00\", \"periodicidad\":\"Mensual\"}]},{\"estimulos\":[{ \"concepto\":\"Est\\\\u00EDmulos\", \"montobruto\":\"$0.00\", \"montoneto\":\"$0.00\", \"periodicidad\":\"Mensual\"}]},{\"apoyo_economico\":[{ \"concepto\":\"Apoyos econ\\\\u00F3micos\", \"montobruto\":\"$0.00\", \"montoneto\":\"$0.00\", \"periodicidad\":\"Mensual\"}]},{\"prestaciones_economicas\":[{ \"concepto\":\"Prestaciones econ\\\\u00F3micas\", \"montobruto\":\"$0.00\", \"montoneto\":\"$0.00\", \"periodicidad\":\"Mensual\"}]},{\"prestaciones_especie\":[{ \"concepto\":\"Prestaciones en especie\", \"montobruto\":\"\", \"montoneto\":\"\", \"periodicidad\":\"Mensual\"}]}]}]',\n",
       " 'idInformacion': '11323970'}"
      ]
     },
     "execution_count": 47,
     "metadata": {},
     "output_type": "execute_result"
    }
   ],
   "source": [
    "query_inai('andres manuel lopez obrador', 'sueldos')['resultado']['informacion'][0]"
   ]
  },
  {
   "cell_type": "code",
   "execution_count": 48,
   "id": "7f4f31f6",
   "metadata": {},
   "outputs": [
    {
     "name": "stdout",
     "output_type": "stream",
     "text": [
      "{\"contenido\":\"andres manuel lopez obrador\",\"coleccion\":\"directorio\",\"jsonAtributos\":\"\",\"dePaginador\":True,\"filtroSeleccionado\":\"\",\"atributosSeleccionados\":\"\",\"cantidad\":20,\"tipoOrdenamiento\":1}\n"
     ]
    },
    {
     "data": {
      "text/plain": [
       "{'informacionPrincipal': '{ \"entidadfederativa\":\"Federaci\\\\u00F3n\" ,\"sujetoobligado\":\"Oficina de la Presidencia de la Rep\\\\u00FAblica\" ,\"nombre\":\"Andr\\\\u00E9s Manuel L\\\\u00F3pez Obrador\",\"denominacion\":\"Presidente de los Estados Unidos Mexicanos\",\"areaadscripcion\":\"Secretar\\\\u00EDa Particular del Presidente\",\"periodoreporta\":\"01\\\\/04\\\\/2021 - 30\\\\/06\\\\/2021\"}',\n",
       " 'informacionSecundaria': '{ \"nombre\":\"Andr\\\\u00E9s Manuel L\\\\u00F3pez Obrador\",\"institucion\":\"Oficina de la Presidencia de la Rep\\\\u00FAblica\",\"cargo\":\"Presidente de los Estados Unidos Mexicanos\",\"area\":\"Secretar\\\\u00EDa Particular del Presidente\",\"telefono\":\"50934800\",\"correo\":\"\",\"direccion\":\"Calle Plaza de la Constituci\\\\u00F3n S\\\\/N,Colonia Centro,Cuauht\\\\u00E9moc, C.P. 06060,Ciudad de M\\\\u00E9xico\",\"periodoinforma\":\"01\\\\/04\\\\/2021 - 30\\\\/06\\\\/2021\"}',\n",
       " 'idInformacion': '12632465'}"
      ]
     },
     "execution_count": 48,
     "metadata": {},
     "output_type": "execute_result"
    }
   ],
   "source": [
    "query_inai('andres manuel lopez obrador', 'directorio')['resultado']['informacion'][0]"
   ]
  },
  {
   "cell_type": "code",
   "execution_count": 51,
   "id": "735ef165",
   "metadata": {},
   "outputs": [
    {
     "name": "stdout",
     "output_type": "stream",
     "text": [
      "{\"contenido\":\"andres manuel lopez obrador\",\"coleccion\":\"servicios\",\"jsonAtributos\":\"\",\"dePaginador\":True,\"filtroSeleccionado\":\"\",\"atributosSeleccionados\":\"\",\"cantidad\":20,\"tipoOrdenamiento\":1}\n"
     ]
    },
    {
     "data": {
      "text/plain": [
       "'{ \"entidadfederativa\":\"Federaci\\\\u00F3n\" ,\"sujetoobligado\":\"Instituto Nacional de los Pueblos Ind\\\\u00EDgenas\" ,\"denominacionservicio\":\"Casa y Comedores del Ni\\\\u00F1o Ind\\\\u00EDgena\",\"requisitos\":\"Los criterios y requisitos para otorgar el servicio, se establecen en el numeral 3.3 Criterios y Requisitos de Eligibilidad de las reglas de operaci\\\\u00F3n del Programa\",\"periodoreporta\":\"08\\\\/01\\\\/2018 - 31\\\\/12\\\\/2018\"}'"
      ]
     },
     "execution_count": 51,
     "metadata": {},
     "output_type": "execute_result"
    }
   ],
   "source": [
    "query_inai('andres manuel lopez obrador', 'servicios')['resultado']['informacion'][0]['informacionPrincipal']"
   ]
  },
  {
   "cell_type": "code",
   "execution_count": 52,
   "id": "4405426a",
   "metadata": {},
   "outputs": [
    {
     "name": "stdout",
     "output_type": "stream",
     "text": [
      "{\"contenido\":\"andres manuel lopez obrador\",\"coleccion\":\"tramites\",\"jsonAtributos\":\"\",\"dePaginador\":True,\"filtroSeleccionado\":\"\",\"atributosSeleccionados\":\"\",\"cantidad\":20,\"tipoOrdenamiento\":1}\n"
     ]
    },
    {
     "data": {
      "text/plain": [
       "'{ \"entidadfederativa\":\"Federaci\\\\u00F3n\" ,\"sujetoobligado\":\"Instituto Nacional de los Pueblos Ind\\\\u00EDgenas\" ,\"denominaciontramite\":\"Solicitud de ingreso a una casa o comedor del ni\\\\u00F1o ind\\\\u00EDgena\",\"hipervinculorequisitos\":\"https:\\\\/\\\\/www.gob.mx\\\\/cms\\\\/uploads\\\\/attachment\\\\/file\\\\/286083\\\\/programa-de-apoyo-a-la-educacion-indigena-dof-2017-12-27-mat-cndpi3a.pdf\",\"periodoreporta\":\"08\\\\/01\\\\/2018 - 31\\\\/12\\\\/2018\"}'"
      ]
     },
     "execution_count": 52,
     "metadata": {},
     "output_type": "execute_result"
    }
   ],
   "source": [
    "query_inai('andres manuel lopez obrador', 'tramites')['resultado']['informacion'][0]['informacionPrincipal']"
   ]
  },
  {
   "cell_type": "code",
   "execution_count": 53,
   "id": "bdaeb147",
   "metadata": {},
   "outputs": [
    {
     "name": "stdout",
     "output_type": "stream",
     "text": [
      "{\"contenido\":\"andres manuel lopez obrador\",\"coleccion\":\"contratos\",\"jsonAtributos\":\"\",\"dePaginador\":True,\"filtroSeleccionado\":\"\",\"atributosSeleccionados\":\"\",\"cantidad\":20,\"tipoOrdenamiento\":1}\n"
     ]
    },
    {
     "data": {
      "text/plain": [
       "'{ \"entidadfederativa\":\"Veracruz\" , \"sujetoobligado\":\"Ayuntamiento de Tatahuicapan de Ju\\\\u00E1rez\" ,\"tipoprocedimiento\":\"Invitaci\\\\u00F3n a cuando menos tres personas\",\"razonsocial\":\"PERSONA MORAL\",\"numerocontrato\":\"MTV-HIDROCARB-2020-209-004\",\"montocontrato\":\"$835,588.87\",\"periodoreporta\":\"01\\\\/07\\\\/2020 - 30\\\\/09\\\\/2020\"}'"
      ]
     },
     "execution_count": 53,
     "metadata": {},
     "output_type": "execute_result"
    }
   ],
   "source": [
    "query_inai('andres manuel lopez obrador', 'contratos')['resultado']['informacion'][0]['informacionPrincipal']"
   ]
  },
  {
   "cell_type": "code",
   "execution_count": null,
   "id": "7815625c",
   "metadata": {},
   "outputs": [],
   "source": []
  }
 ],
 "metadata": {
  "kernelspec": {
   "display_name": "Python 3",
   "language": "python",
   "name": "python3"
  },
  "language_info": {
   "codemirror_mode": {
    "name": "ipython",
    "version": 3
   },
   "file_extension": ".py",
   "mimetype": "text/x-python",
   "name": "python",
   "nbconvert_exporter": "python",
   "pygments_lexer": "ipython3",
   "version": "3.7.3"
  }
 },
 "nbformat": 4,
 "nbformat_minor": 5
}
