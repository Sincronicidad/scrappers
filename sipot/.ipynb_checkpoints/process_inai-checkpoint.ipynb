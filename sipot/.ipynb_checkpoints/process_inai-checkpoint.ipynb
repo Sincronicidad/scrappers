{
 "cells": [
  {
   "cell_type": "code",
   "execution_count": 2,
   "id": "86141071",
   "metadata": {},
   "outputs": [],
   "source": [
    "#Directorio"
   ]
  },
  {
   "cell_type": "code",
   "execution_count": null,
   "id": "786b9ff8",
   "metadata": {},
   "outputs": [],
   "source": [
    "curl 'https://tematicos.plataformadetransparencia.org.mx/web/guest/informacionrelevante?p_p_id=informacionrelevante_WAR_Informacionrelevante&p_p_lifecycle=2&p_p_state=normal&p_p_mode=view&p_p_resource_id=busquedaDirectorio&p_p_cacheability=cacheLevelPage&_informacionrelevante_WAR_Informacionrelevante_controller=DirectorioController' \\\n",
    "  -H 'Content-Type: application/json; charset=UTF-8' \\\n",
    "  --data-raw '{\"contenido\":\" \",\"coleccion\":\"directorio\",\"jsonAtributos\":\"\",\"dePaginador\":true,\"filtroSeleccionado\":\"\",\"atributosSeleccionados\":\"\",\"cantidad\":20,\"tipoOrdenamiento\":1}'"
   ]
  }
 ],
 "metadata": {
  "kernelspec": {
   "display_name": "Python 3",
   "language": "python",
   "name": "python3"
  },
  "language_info": {
   "codemirror_mode": {
    "name": "ipython",
    "version": 3
   },
   "file_extension": ".py",
   "mimetype": "text/x-python",
   "name": "python",
   "nbconvert_exporter": "python",
   "pygments_lexer": "ipython3",
   "version": "3.7.3"
  }
 },
 "nbformat": 4,
 "nbformat_minor": 5
}
