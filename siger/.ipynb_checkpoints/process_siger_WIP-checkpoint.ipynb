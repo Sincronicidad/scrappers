{
 "cells": [
  {
   "cell_type": "code",
   "execution_count": 20,
   "id": "8ed4f13e",
   "metadata": {},
   "outputs": [],
   "source": [
    "from selenium import webdriver\n",
    "from selenium.webdriver.common.keys import Keys\n",
    "\n",
    "driver = webdriver.Chrome()\n",
    "driver.get(\"https://rpc.economia.gob.mx/siger2/xhtml/login/login2.xhtml\")"
   ]
  },
  {
   "cell_type": "code",
   "execution_count": null,
   "id": "72c410ac",
   "metadata": {},
   "outputs": [],
   "source": [
    "print(driver.title)\n",
    "login = driver.find_element_by_id(\"formulario:usuario\")\n",
    "login.send_keys(\"SECRET\")\n",
    "password = driver.find_element_by_id(\"formulario:contrasenia\")\n",
    "password.send_keys(\"SECRET\")\n",
    "button_login = driver.find_element_by_id(\"formulario:ingresarBtn\")    \n",
    "button_login.click()\n",
    "driver.get('https://rpc.economia.gob.mx/siger2/xhtml/index.xhtml')"
   ]
  },
  {
   "cell_type": "code",
   "execution_count": 46,
   "id": "1ba99302",
   "metadata": {},
   "outputs": [],
   "source": [
    "import time"
   ]
  },
  {
   "cell_type": "code",
   "execution_count": 66,
   "id": "f6bcfcd3",
   "metadata": {},
   "outputs": [],
   "source": [
    "link_consultas= [x for x in driver.find_elements_by_tag_name('a') if 'consultas' in x.text.lower()]\n",
    "link_consultas[0].click()\n",
    "time.sleep(0.5)\n",
    "link_consultas= [x for x in driver.find_elements_by_tag_name('li') if 'CONSULTA PÚBLICA' in x.text]\n"
   ]
  },
  {
   "cell_type": "code",
   "execution_count": 67,
   "id": "cb57203c",
   "metadata": {},
   "outputs": [
    {
     "data": {
      "text/plain": [
       "<selenium.webdriver.remote.webelement.WebElement (session=\"1e0f9dba255868c448c908d9ce7fdc5b\", element=\"5bd40669-148d-48d6-bfba-2b083a65095d\")>"
      ]
     },
     "execution_count": 67,
     "metadata": {},
     "output_type": "execute_result"
    }
   ],
   "source": [
    "link_consultas[0].find_element_by_tag_name('a')"
   ]
  },
  {
   "cell_type": "code",
   "execution_count": 68,
   "id": "41bd9a67",
   "metadata": {},
   "outputs": [],
   "source": [
    "driver.get(\"https://rpc.economia.gob.mx/siger2/xhtml/consulta/consultaPublica/consultaPublica.xhtml\")"
   ]
  },
  {
   "cell_type": "code",
   "execution_count": 129,
   "id": "958ee5a8",
   "metadata": {},
   "outputs": [],
   "source": [
    "def fill_field(name, text):\n",
    "    ele = driver.find_element_by_id(name)\n",
    "    ele.clear()\n",
    "    ele.send_keys(text)\n",
    "    while is_loading() is True: time.sleep(1)\n",
    "    return True"
   ]
  },
  {
   "cell_type": "code",
   "execution_count": 130,
   "id": "850bdd16",
   "metadata": {},
   "outputs": [
    {
     "data": {
      "text/plain": [
       "True"
      ]
     },
     "execution_count": 130,
     "metadata": {},
     "output_type": "execute_result"
    }
   ],
   "source": [
    "fill_field('formValores:fme', 1)"
   ]
  },
  {
   "cell_type": "code",
   "execution_count": 131,
   "id": "09c166cd",
   "metadata": {},
   "outputs": [],
   "source": [
    "def fill_clave(num):\n",
    "    driver.find_element_by_id('formValores:consultar').click()\n",
    "    time.sleep(1)\n",
    "    while is_loading() is True: time.sleep(1)\n",
    "    fill_field('catalogoOficinasForm:oficinaTable:texto', num)\n",
    "    driver.find_element_by_id('catalogoOficinasForm:oficinaTable:buscarO').click()\n",
    "    time.sleep(1)\n",
    "    driver.find_element_by_id('catalogoOficinasForm:oficinaTable_data').find_element_by_tag_name('tr').click()\n",
    "    time.sleep(1)\n",
    "    driver.find_element_by_id('catalogoOficinasForm:buscarCatalogoOficinaGr').click()\n",
    "    return True\n"
   ]
  },
  {
   "cell_type": "code",
   "execution_count": 132,
   "id": "0990c45a",
   "metadata": {},
   "outputs": [
    {
     "data": {
      "text/plain": [
       "False"
      ]
     },
     "execution_count": 132,
     "metadata": {},
     "output_type": "execute_result"
    }
   ],
   "source": [
    "is_loading()"
   ]
  },
  {
   "cell_type": "code",
   "execution_count": 133,
   "id": "fc3c079e",
   "metadata": {},
   "outputs": [
    {
     "data": {
      "text/plain": [
       "True"
      ]
     },
     "execution_count": 133,
     "metadata": {},
     "output_type": "execute_result"
    }
   ],
   "source": [
    "fill_clave(1)"
   ]
  },
  {
   "cell_type": "code",
   "execution_count": 137,
   "id": "0ccc3e5f",
   "metadata": {},
   "outputs": [],
   "source": [
    "driver.find_element_by_id('formValores:consultaa').click()"
   ]
  },
  {
   "cell_type": "code",
   "execution_count": 99,
   "id": "d3ae8244",
   "metadata": {},
   "outputs": [],
   "source": [
    "def is_loading():\n",
    "    loading = driver.find_element_by_id('spinnerBox').get_attribute(\"style\")\n",
    "    return 'display: none;' not in loading"
   ]
  },
  {
   "cell_type": "code",
   "execution_count": 139,
   "id": "c4feb051",
   "metadata": {},
   "outputs": [],
   "source": [
    "driver.find_element_by_class_name('ui-radiobutton').click()"
   ]
  },
  {
   "cell_type": "code",
   "execution_count": 140,
   "id": "21a33b79",
   "metadata": {},
   "outputs": [],
   "source": [
    "driver.find_element_by_id('formValores:revisarFme').click()"
   ]
  },
  {
   "cell_type": "code",
   "execution_count": null,
   "id": "682a94cc",
   "metadata": {},
   "outputs": [],
   "source": [
    "is_loading()"
   ]
  },
  {
   "cell_type": "code",
   "execution_count": 142,
   "id": "5a72ba0f",
   "metadata": {},
   "outputs": [],
   "source": [
    "table_results = driver.find_element_by_id('revisarFmeForm:j_idt139')"
   ]
  },
  {
   "cell_type": "code",
   "execution_count": 152,
   "id": "72d58b36",
   "metadata": {},
   "outputs": [
    {
     "name": "stdout",
     "output_type": "stream",
     "text": [
      "['FME:', '', 'Tipo de persona:', 'Física\\nMoral', '', 'Física', '', 'Moral']\n",
      "['', 'Física', '', 'Moral']\n",
      "['Nombre / Razón social:', '', 'Antecedente registral:', '']\n",
      "['Objeto social:', 'EL OBJETO SOCIAL ES: ACABADO Y ESTAMPADO DE TELAS SINTETICAS, NATURALES Y MIXTAS', 'Régimen jurídico:', '']\n",
      "['Duración de la sociedad:', '', 'Giro:', '']\n",
      "['Domicilio social:', 'AGUASCALIENTES, AGUASCALIENTES.', 'Entidad Federativa:', '']\n",
      "['Nacionalidad:', '', 'Municipio:', '']\n",
      "['Estatus FME:', '', 'Oficina registral:', '']\n",
      "['RFC:', '', 'Fecha de inscripción:', '11/03/1985 12:00:00 T.CENTRO']\n",
      "['Nombre de socios:', 'JOSE GUADALUPE LOPEZ VALDIVIA\\nui-button', 'CURP:', '']\n",
      "['']\n",
      "['']\n",
      "['']\n",
      "['']\n"
     ]
    },
    {
     "data": {
      "text/plain": [
       "[None,\n",
       " None,\n",
       " None,\n",
       " None,\n",
       " None,\n",
       " None,\n",
       " None,\n",
       " None,\n",
       " None,\n",
       " None,\n",
       " None,\n",
       " None,\n",
       " None,\n",
       " None]"
      ]
     },
     "execution_count": 152,
     "metadata": {},
     "output_type": "execute_result"
    }
   ],
   "source": [
    "[extract_data_row(row) for row in table_results.find_elements_by_tag_name('tr')]"
   ]
  },
  {
   "cell_type": "code",
   "execution_count": 151,
   "id": "8379a31b",
   "metadata": {},
   "outputs": [],
   "source": [
    "def extract_data_row(row):\n",
    "    print([x.text for x in row.find_elements_by_tag_name('td')])"
   ]
  },
  {
   "cell_type": "code",
   "execution_count": null,
   "id": "a6e0ddf4",
   "metadata": {},
   "outputs": [],
   "source": []
  }
 ],
 "metadata": {
  "kernelspec": {
   "display_name": "Python 3",
   "language": "python",
   "name": "python3"
  },
  "language_info": {
   "codemirror_mode": {
    "name": "ipython",
    "version": 3
   },
   "file_extension": ".py",
   "mimetype": "text/x-python",
   "name": "python",
   "nbconvert_exporter": "python",
   "pygments_lexer": "ipython3",
   "version": "3.7.3"
  }
 },
 "nbformat": 4,
 "nbformat_minor": 5
}
